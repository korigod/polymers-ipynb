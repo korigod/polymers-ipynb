{
 "cells": [
  {
   "cell_type": "markdown",
   "metadata": {
    "colab_type": "text",
    "id": "TUCndXXgcNwN"
   },
   "source": [
    "Добро пожаловать в Jupyter Notebook, веб-интерфейс интерактивного интерпретатора языка Python.\n",
    "\n",
    "Эта программа выполняет моделирование макромолекулы как цепи с фиксированными валентными углами. Программа, исходный код которой вводится здесь, исполняется на удаленном сервере, а результаты выполнения отображаются на этой странице.\n",
    "\n",
    "На первом шаге мы подготовим интерпретатор для выполнения моделирования: импортируем нужные модули, определим функции и константы.\n",
    "\n",
    "Установите курсор в ячейку с кодом ниже, щелкнув по ней, и нажмите кнопку `Run` на панели инструментов сверху, чтобы исполнить шаг."
   ]
  },
  {
   "cell_type": "code",
   "execution_count": null,
   "metadata": {
    "colab": {},
    "colab_type": "code",
    "id": "rOpiDGtjZ3GR"
   },
   "outputs": [],
   "source": [
    "%matplotlib notebook\n",
    "\n",
    "import math\n",
    "from math import sin, cos, tan, asin, acos, atan2, pi, sqrt\n",
    "import random\n",
    "from statistics import mean\n",
    "\n",
    "import numpy as np\n",
    "from mpl_toolkits.mplot3d import Axes3D\n",
    "import matplotlib.pyplot as plt\n",
    "\n",
    "\n",
    "# Число мономерных звеньев / сегментов полимерной цепи\n",
    "SEGMENT_COUNT = 200\n",
    "\n",
    "# Валентный угол\n",
    "ANGLE_DEG = 109\n",
    "\n",
    "\n",
    "def normalize(v):\n",
    "    norm = np.linalg.norm(v)\n",
    "    return v / norm\n",
    "\n",
    "def pdf(r):\n",
    "    scale = math.sqrt(3 / mean([x**2 for x in distances]))\n",
    "    x = r * scale\n",
    "    return math.sqrt(2/pi) * x**2 * math.exp(-x**2/2) * scale\n",
    "\n",
    "LENGTH = 1\n",
    "angle = math.radians(ANGLE_DEG)\n",
    "i_vector = np.array([1, 0, 0])\n",
    "\n",
    "assert angle > 0\n",
    "assert angle < pi\n",
    "\n",
    "r = LENGTH\n",
    "theta = pi - angle\n",
    "\n",
    "def calc():\n",
    "    points = [np.array([0, 0, 0]), np.array([0.1, 0.1, math.sqrt(0.98)])]\n",
    "    for index in range(SEGMENT_COUNT - 1):\n",
    "        prev_point = points[index]\n",
    "        curr_point = points[index + 1]\n",
    "        prev_vector = curr_point - prev_point\n",
    "        circle_center = curr_point + prev_vector * cos(theta)\n",
    "        circle_radius = LENGTH * sin(theta)\n",
    "\n",
    "        u = normalize(np.cross(prev_vector, i_vector))\n",
    "        v = normalize(np.cross(prev_vector, u))\n",
    "        t = random.uniform(0, 2 * pi)\n",
    "        next_point = circle_center + circle_radius * cos(t) * u + circle_radius * sin(t) * v\n",
    "        points.append(next_point)\n",
    "\n",
    "    distance = np.linalg.norm(points[0] - points[-1])\n",
    "    return points, distance\n",
    "\n",
    "def draw():\n",
    "    get_ipython().magic('matplotlib notebook')\n",
    "    points, distance = calc()\n",
    "    fig = plt.figure(figsize=[10, 6], dpi=80)\n",
    "    ax = fig.add_subplot(111, projection='3d')\n",
    "\n",
    "    for idx, point in enumerate(points):\n",
    "        ax.scatter(*point, c='b', marker='o')\n",
    "        if idx != 0:\n",
    "            ax.plot([points[idx - 1][0], points[idx][0]],\n",
    "                    [points[idx - 1][1], points[idx][1]],\n",
    "                    zs=[points[idx - 1][2], points[idx][2]],\n",
    "                    color='blue')\n",
    "\n",
    "    ax.scatter(*points[0], c='r', marker='o')\n",
    "    ax.scatter(*points[-1], c='r', marker='o')\n",
    "    ax.plot([points[-1][0], points[0][0]],\n",
    "            [points[-1][1], points[0][1]],\n",
    "            zs=[points[-1][2], points[0][2]],\n",
    "            dashes=(1, 3),\n",
    "            color='red')\n",
    "\n",
    "    min_x = min(a[0] for a in points)\n",
    "    min_y = min(a[1] for a in points)\n",
    "    min_z = min(a[2] for a in points)\n",
    "    max_x = max(a[0] for a in points)\n",
    "    max_y = max(a[1] for a in points)\n",
    "    max_z = max(a[2] for a in points)\n",
    "    avg_x = np.mean([a[0] for a in points])\n",
    "    avg_y = np.mean([a[1] for a in points])\n",
    "    avg_z = np.mean([a[2] for a in points])\n",
    "    max_scale_length = max([max_x - min_x, max_y - min_y, max_z - min_z])\n",
    "    ax.set_xlim3d([avg_x - 0.4 * max_scale_length, avg_x + 0.4 * max_scale_length])\n",
    "    ax.set_ylim3d([avg_y - 0.4 * max_scale_length, avg_y + 0.4 * max_scale_length])\n",
    "    ax.set_zlim3d([avg_z - 0.4 * max_scale_length, avg_z + 0.4 * max_scale_length])\n",
    "    \n",
    "    return distance\n",
    "\n",
    "def draw_1d_scatter(points):\n",
    "    get_ipython().magic('matplotlib inline')\n",
    "    fig, ax = plt.subplots(figsize=(8, 1))\n",
    "    ax.scatter(points, np.zeros_like(points), s=200, marker='|')\n",
    "    ax.get_yaxis().set_visible(False)\n",
    "    ax.spines['top'].set_visible(False)\n",
    "    ax.spines['right'].set_visible(False)\n",
    "    ax.spines['bottom'].set_visible(False)\n",
    "    ax.spines['left'].set_visible(False)\n",
    "    return ax\n",
    "\n",
    "distances = []"
   ]
  },
  {
   "cell_type": "markdown",
   "metadata": {
    "colab_type": "text",
    "id": "fq7VgaU-cUrJ"
   },
   "source": [
    "Отлично! Теперь можно переходить непосредственно к моделированию — нажмите `Run`, установив курсор в ячейку ниже, и будет сгенерирована и отображена случайная макромолекула согласно созданной модели."
   ]
  },
  {
   "cell_type": "code",
   "execution_count": null,
   "metadata": {
    "colab": {},
    "colab_type": "code",
    "id": "diK8onn0Lafs"
   },
   "outputs": [],
   "source": [
    "distance = draw()\n",
    "distances.append(distance)\n",
    "print('R = {}'.format(distance))"
   ]
  },
  {
   "cell_type": "markdown",
   "metadata": {
    "colab_type": "text",
    "id": "ps55JeJcepNK"
   },
   "source": [
    "Мы смоделировали одну макромолекулу. Конформация цепи характеризуется вектором $R$, соединяющим её концы — на изображении он показан красной пунктирной линией. Его длина выведена под изображением.\n",
    "\n",
    "Попробуйте ещё несколько раз выполнить последний шаг, чтобы сгенерировать несколько разных макромолекул.\n",
    "\n",
    "После этого давайте посмотрим на распределение получившихся расстояний между концами цепи — для этого запустите следующий шаг."
   ]
  },
  {
   "cell_type": "code",
   "execution_count": null,
   "metadata": {
    "colab": {},
    "colab_type": "code",
    "id": "-qeBaQjgOiGR",
    "scrolled": true
   },
   "outputs": [],
   "source": [
    "draw_1d_scatter(distances)\n",
    "plt.show()"
   ]
  },
  {
   "cell_type": "markdown",
   "metadata": {
    "colab_type": "text",
    "id": "E7oSxjDzfh5L"
   },
   "source": [
    "Если вы запускали моделирование не слишком много раз, скорее всего, полученное распределение выглядит, как не подчиняющееся какому-то закону: слишком велика роль случайности. Давайте попробуем сгенерировать 100 макромолекул и выведем получившееся распределение:"
   ]
  },
  {
   "cell_type": "code",
   "execution_count": null,
   "metadata": {},
   "outputs": [],
   "source": [
    "NUMBER_OF_SIMULATIONS = 100\n",
    "distances = [calc()[1] for _ in range(NUMBER_OF_SIMULATIONS)]\n",
    "draw_1d_scatter(distances)\n",
    "plt.show()"
   ]
  },
  {
   "cell_type": "markdown",
   "metadata": {},
   "source": [
    "Теперь видно, что распределение тяготеет к определенному среднему значению. Поскольку все ориентации сегментов равноправны, $\\overline{R} = 0$, поэтому размеры клубка обычно характеризуют среднеквадратичным расстоянием между концами цепи — $\\sqrt{\\overline{R^2}}$.\n",
    "\n",
    "Чтобы вычислить $\\overline{R^2}$, обозначим через $х_{i}$ радиус-вектор начала $i$-гo сегмента,\n",
    "радиус-вектор его конца будет $x_{i+1}$. Введем также «векторы\n",
    "связей» $u_i = x_{i+1} - x_i$. Тогда вектор расстояния между концами цепи равен\n",
    "\n",
    "\\begin{equation}\n",
    "R = \\sum_{i=1}^N u_i,\n",
    "\\end{equation}\n",
    "\n",
    "поэтому\n",
    "\n",
    "\\begin{equation}\n",
    "\\overline{R^2} = \\overline{\\left(\\sum_{i=1}^N u_i\\right)^2} = \\sum_{i=1}^N \\overline{u_i^2} + 2\\mathop{\\sum\\sum}_{1\\leq i<j\\leq N} \\overline{u_i u_j}\n",
    "\\end{equation}\n",
    "\n",
    "Для цепи с фиксированными валентными углами [1]:\n",
    "\n",
    "\\begin{equation}\n",
    "\\overline{R^2} = Nb^2 + 2b^2 \\sum_{i=1}^N \\sum_{k=1}^{N-i} \\overline{cos\\alpha_{i, i+k}} = Nb^2 + 2b^2 \\sum_{i=1}^N \\sum_{k=1}^{N-i} \\left(cos\\theta\\right)^k\n",
    "\\end{equation}\n",
    "\n",
    "Просуммировав геометрическую прогрессию, получим:\n",
    "\n",
    "\\begin{equation}\n",
    "\\overline{R^2} = Nb^2\\left[\\frac{1+\\cos\\theta}{1-\\cos\\theta} - \\frac{2}{N}\\cos\\theta\\frac{1-(\\cos\\theta)^N}{(1-\\cos\\theta)^2}\\right] \\tag{1}\n",
    "\\end{equation}\n",
    "\n",
    "Нетрудно заметить, что при $N\\to\\infty$ выражение $\\frac{2}{N}\\cos\\theta\\frac{1-(\\cos\\theta)^N}{(1-\\cos\\theta)^2} \\to 0$, что позволяет записать выражение для среднеквадратичного расстояния между концами цепи в виде:\n",
    "\n",
    "\\begin{equation}\n",
    "\\overline{R^2} \\cong Nb^2\\frac{1+\\cos\\theta}{1-\\cos\\theta}\n",
    "\\end{equation}\n",
    "\n",
    "\\begin{equation}\n",
    "\\sqrt{\\overline{R^2}} \\cong \\sqrt{N} b \\sqrt{\\frac{1+\\cos\\theta}{1-\\cos\\theta}} \\tag{2}\n",
    "\\end{equation}\n",
    "\n",
    "Давайте рассчитаем получившееся среднеквадратичное расстояние между концами сгенерированных нами 100 цепей:\n",
    "\n",
    "\\begin{equation}\n",
    "\\sqrt{\\overline{R^2}} = \\sqrt{\\frac{\\sum_{i=1}^{N}R_i^2}{N}},\n",
    "\\end{equation}\n",
    "\n",
    "и сравним его со значениями, рассчитанными согласно выражениям (1) и (2) на основе использованных валентного угла и длины сегмента:"
   ]
  },
  {
   "cell_type": "code",
   "execution_count": null,
   "metadata": {
    "scrolled": true
   },
   "outputs": [],
   "source": [
    "calculated_mean_distance = sqrt(mean([x**2 for x in distances]))\n",
    "\n",
    "a = (1 + cos(theta)) / (1 - cos(theta))\n",
    "theoretical_mean_distance = sqrt(SEGMENT_COUNT * (LENGTH ** 2) * a)\n",
    "\n",
    "b = 2 / SEGMENT_COUNT * cos(theta) * (1 - (cos(theta) ** SEGMENT_COUNT)) / (1 - cos(theta)) ** 2\n",
    "precise_theoretical_mean_distance = sqrt(SEGMENT_COUNT * (LENGTH ** 2) * (a - b))\n",
    "\n",
    "print(\"Получено:      \", calculated_mean_distance)\n",
    "print(\"Теор. (≈, N→∞):\", theoretical_mean_distance)\n",
    "print(\"Теор. (точно): \", precise_theoretical_mean_distance)\n",
    "\n",
    "ax = draw_1d_scatter(distances)\n",
    "ax.scatter(calculated_mean_distance, 0, s=2000, color='red', marker='|')\n",
    "ax.scatter(precise_theoretical_mean_distance, 0, s=2000, color='green', marker='|')\n",
    "plt.show()"
   ]
  },
  {
   "cell_type": "markdown",
   "metadata": {
    "colab_type": "text",
    "id": "6uenyVbSf6Ui"
   },
   "source": [
    "Отлично — благодаря тому, что сгенерировано достаточно много цепей, такое экспериментальное среднеквадратичное значение, скорее всего, близко к предсказанному теоретически. Красной чертой на графике отмечено среднеквадратичное значение, определенное на основе смоделированных макромолекул, а зеленой — вычисленное согласно выражению (2). Увеличив число моделируемых цепей (`NUMBER_OF_SIMULATIONS`) в коде предыдущего шага, можно еще повысить точность вычисляемого значения."
   ]
  },
  {
   "cell_type": "code",
   "execution_count": null,
   "metadata": {
    "colab": {},
    "colab_type": "code",
    "id": "x7qVxkKkMZry"
   },
   "outputs": [],
   "source": [
    "NUMBER_OF_SIMULATIONS = 1000\n",
    "NUMBER_OF_HISTOGRAM_BINS = 20\n",
    "\n",
    "distances = [calc()[1] for _ in range(NUMBER_OF_SIMULATIONS)]\n",
    "\n",
    "fig, ax = plt.subplots()\n",
    "n, bins, patches = ax.hist(distances, NUMBER_OF_HISTOGRAM_BINS)\n",
    "theoretical_pdf = [pdf(b) * NUMBER_OF_SIMULATIONS * (bins[1] - bins[0])\n",
    "                   for b in range(int(bins[-1]) + 1)]\n",
    "ax.plot(range(int(bins[-1]) + 1), theoretical_pdf, color='red', linestyle='dashed')\n",
    "ax.set_xlabel('Среднеквадратичное расстояние между концами цепи')\n",
    "ax.set_ylabel('Число макромолекул')\n",
    "ax.set_title('Распределение макромолекул по размерам')\n",
    "plt.show()"
   ]
  },
  {
   "cell_type": "markdown",
   "metadata": {},
   "source": [
    "Теперь вы можете изменить длину (степень полимеризации) макромолекулы или валентный угол и посмотреть, как при этом будет изменяться вид и расстояние между концами макромолекулы. Для этого измените значения переменных `SEGMENT_COUNT` (число мономерных звеньев / сегментов) и `ANGLE_DEG` (валентный угол) в начале кода первого шага и заново выполните первый шаг и последующий."
   ]
  },
  {
   "cell_type": "markdown",
   "metadata": {},
   "source": [
    "[1] Гросберг, Хохлов. Статистическая физика макромолекул."
   ]
  }
 ],
 "metadata": {
  "colab": {
   "collapsed_sections": [],
   "name": "Fixed angles model.ipynb",
   "provenance": [],
   "version": "0.3.2"
  },
  "kernelspec": {
   "display_name": "Python 3",
   "language": "python",
   "name": "python3"
  },
  "language_info": {
   "codemirror_mode": {
    "name": "ipython",
    "version": 3
   },
   "file_extension": ".py",
   "mimetype": "text/x-python",
   "name": "python",
   "nbconvert_exporter": "python",
   "pygments_lexer": "ipython3",
   "version": "3.7.3"
  }
 },
 "nbformat": 4,
 "nbformat_minor": 1
}
